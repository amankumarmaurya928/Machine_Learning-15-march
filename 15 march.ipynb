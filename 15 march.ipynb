{
 "cells": [
  {
   "cell_type": "code",
   "execution_count": 1,
   "id": "12a3854f-d463-4d2b-b287-95a6dcb6e4b5",
   "metadata": {},
   "outputs": [
    {
     "data": {
      "text/plain": [
       "'\\n1. Artificial Intelligence:\\n              artificial intelligence is a field, which combines computer science and robust datasets, to enable \\n              problem-solving. It also encompasses sub-fields of machine learning and deep learning, which are frequently\\n              mentioned in conjunction with artificial intelligence.\\n2. Machine Learning:\\n              Machine learning is a branch of artificial intelligence (AI) and computer science which focuses on the use \\n              of data and algorithms to imitate the way that humans learn, gradually improving its accuracy.\\n3. Deep Learning:\\n              Deep learning is a subset of machine learning, which is essentially a neural network with three or more layers.\\n'"
      ]
     },
     "execution_count": 1,
     "metadata": {},
     "output_type": "execute_result"
    }
   ],
   "source": [
    "# Q1\n",
    "'''\n",
    "1. Artificial Intelligence:\n",
    "              artificial intelligence is a field, which combines computer science and robust datasets, to enable \n",
    "              problem-solving. It also encompasses sub-fields of machine learning and deep learning, which are frequently\n",
    "              mentioned in conjunction with artificial intelligence.\n",
    "2. Machine Learning:\n",
    "              Machine learning is a branch of artificial intelligence (AI) and computer science which focuses on the use \n",
    "              of data and algorithms to imitate the way that humans learn, gradually improving its accuracy.\n",
    "3. Deep Learning:\n",
    "              Deep learning is a subset of machine learning, which is essentially a neural network with three or more layers.\n",
    "'''"
   ]
  },
  {
   "cell_type": "code",
   "execution_count": 2,
   "id": "8ec4550c-8ce2-4bbd-a4a4-f78eb8961192",
   "metadata": {},
   "outputs": [
    {
     "data": {
      "text/plain": [
       "'Supervised learning:\\nClassification is used when the output variable is categorical i.e. with 2 or more classes. \\n       example, yes or no, male or female, true or false, etc.\\n       In order to predict whether a mail is spam or not, we need to first teach the machine what a spam mail is.\\n       This is done based on a lot of spam filters - reviewing the content of the mail, reviewing the mail header,\\n       and then searching if it contains any false information.\\n'"
      ]
     },
     "execution_count": 2,
     "metadata": {},
     "output_type": "execute_result"
    }
   ],
   "source": [
    "# Q2\n",
    "'''Supervised learning:\n",
    "Classification is used when the output variable is categorical i.e. with 2 or more classes. \n",
    "       example, yes or no, male or female, true or false, etc.\n",
    "       In order to predict whether a mail is spam or not, we need to first teach the machine what a spam mail is.\n",
    "       This is done based on a lot of spam filters - reviewing the content of the mail, reviewing the mail header,\n",
    "       and then searching if it contains any false information.\n",
    "'''"
   ]
  },
  {
   "cell_type": "code",
   "execution_count": 3,
   "id": "20693184-1ff7-4bf2-903f-e19b1724a4d7",
   "metadata": {},
   "outputs": [
    {
     "data": {
      "text/plain": [
       "'Unsupervised learning is when it can provide a set of unlabelled data, which it is required to analyze and \\nfind patterns inside. \\n    examples are dimension reduction and clustering.\\n    '"
      ]
     },
     "execution_count": 3,
     "metadata": {},
     "output_type": "execute_result"
    }
   ],
   "source": [
    "# Q3\n",
    "'''Unsupervised learning is when it can provide a set of unlabelled data, which it is required to analyze and \n",
    "find patterns inside. \n",
    "    examples are dimension reduction and clustering.\n",
    "    '''"
   ]
  },
  {
   "cell_type": "code",
   "execution_count": 4,
   "id": "b8b6911b-0064-43b0-862d-61ac52901499",
   "metadata": {},
   "outputs": [
    {
     "data": {
      "text/plain": [
       "'Difference between AI, ML, DL, and DS\\nMachine Learning is a sub-category of AI, and Deep Learning is a sub-category of ML, meaning they are both forms of AI.\\nArtificial intelligence is the broad idea that machines can intelligently execute tasks by mimicking human behaviours and \\nthought processes.\\nData Scientist: is work on all (AI,ML,DL) in order to analyse dateset.\\n'"
      ]
     },
     "execution_count": 4,
     "metadata": {},
     "output_type": "execute_result"
    }
   ],
   "source": [
    "# Q4\n",
    "'''Difference between AI, ML, DL, and DS\n",
    "Machine Learning is a sub-category of AI, and Deep Learning is a sub-category of ML, meaning they are both forms of AI.\n",
    "Artificial intelligence is the broad idea that machines can intelligently execute tasks by mimicking human behaviours and \n",
    "thought processes.\n",
    "Data Scientist: is work on all (AI,ML,DL) in order to analyse dateset.\n",
    "'''"
   ]
  },
  {
   "cell_type": "code",
   "execution_count": 6,
   "id": "7068d740-591b-4c73-847c-edf361f72cb4",
   "metadata": {},
   "outputs": [
    {
     "data": {
      "text/plain": [
       "'difference between supervised, unsupervised and semi supervised learning:\\nThe main difference between these types is the level of availability of ground truth data, which is prior knowledge of\\n   what the output of the model should be for a given input.\\n1. Supervised learning aims to learn a function that, given a sample of data and desired outputs, approximates a function \\n   that maps inputs to outputs.\\n2. Semi-supervised learning aims to label unlabeled data points using knowledge learned from a small number of labeled data\\n   points.\\n3. Unsupervised learning does not have (or need) any labeled outputs, so its goal is to infer the natural structure present \\n   within a set of data points.\\n'"
      ]
     },
     "execution_count": 6,
     "metadata": {},
     "output_type": "execute_result"
    }
   ],
   "source": [
    "# Q5\n",
    "'''difference between supervised, unsupervised and semi supervised learning:\n",
    "The main difference between these types is the level of availability of ground truth data, which is prior knowledge of\n",
    "   what the output of the model should be for a given input.\n",
    "1. Supervised learning aims to learn a function that, given a sample of data and desired outputs, approximates a function \n",
    "   that maps inputs to outputs.\n",
    "2. Semi-supervised learning aims to label unlabeled data points using knowledge learned from a small number of labeled data\n",
    "   points.\n",
    "3. Unsupervised learning does not have (or need) any labeled outputs, so its goal is to infer the natural structure present \n",
    "   within a set of data points.\n",
    "'''"
   ]
  },
  {
   "cell_type": "code",
   "execution_count": null,
   "id": "55d7aa68-71c6-4b5b-9550-6dda5132458c",
   "metadata": {},
   "outputs": [],
   "source": [
    "# Q6\n",
    "'''\n",
    "Train: We will train the model.\n",
    "Validation: Hyper parameter turnning of the model.\n",
    "Test: Test the model.\n",
    "Exam:\n",
    "    Training: Books for Q&A\n",
    "    Validation: Differ"
   ]
  },
  {
   "cell_type": "code",
   "execution_count": 7,
   "id": "b7cd60a8-dd33-41aa-bbd7-52e73bf4ef4e",
   "metadata": {},
   "outputs": [
    {
     "data": {
      "text/plain": [
       "'The objective of Unsupervised Anomaly Detection is to detect previously unseen rare objects or events without any prior\\n   knowledge about these. The only information available is that the percentage of anomalies in the dataset is small, usually \\n   less than 1%.\\n   Since anomalies are rare and unknown to the user at training time, anomaly detection in most cases boils down to the \\n   problem of modelling the normal data distribution and defining a measurement in this space in order to classify samples \\n   as anomalous or normal. In high-dimensional data such as images, distances in the original space quickly lose descriptive\\n   power (curse of dimensionality) and a mapping to some more suitable space is required.\\n   '"
      ]
     },
     "execution_count": 7,
     "metadata": {},
     "output_type": "execute_result"
    }
   ],
   "source": [
    "# Q7\n",
    "'''The objective of Unsupervised Anomaly Detection is to detect previously unseen rare objects or events without any prior\n",
    "   knowledge about these. The only information available is that the percentage of anomalies in the dataset is small, usually \n",
    "   less than 1%.\n",
    "   Since anomalies are rare and unknown to the user at training time, anomaly detection in most cases boils down to the \n",
    "   problem of modelling the normal data distribution and defining a measurement in this space in order to classify samples \n",
    "   as anomalous or normal. In high-dimensional data such as images, distances in the original space quickly lose descriptive\n",
    "   power (curse of dimensionality) and a mapping to some more suitable space is required.\n",
    "   '''"
   ]
  },
  {
   "cell_type": "code",
   "execution_count": 8,
   "id": "81be8616-c9f7-487c-9b04-a6fb1739e8c6",
   "metadata": {},
   "outputs": [
    {
     "data": {
      "text/plain": [
       "'\\n1. The most widely used supervised learning algorithms are:\\nSupport-vector machines.\\nLinear regression.\\nLogistic regression.\\nNaive Bayes.\\nLinear discriminant analysis.\\nDecision trees.\\nK-nearest neighbor algorithm.\\nNeural networks (Multilayer perceptron)\\n\\n2. Unsupervised Learning algorithms:\\nK-means clustering.\\nKNN (k-nearest neighbors)\\nHierarchal clustering.\\nAnomaly detection.\\nNeural Networks.\\nPrinciple Component Analysis.\\nIndependent Component Analysis.\\nApriori algorithm.\\n\\nSince anomalies are rare and unknown to the user at training time, anomaly detection in most cases boils down to the .\\nproblem of modelling the normal data distribution and defining a measurement in this space in order to classify samples as \\nanomalous or normal.\\n'"
      ]
     },
     "execution_count": 8,
     "metadata": {},
     "output_type": "execute_result"
    }
   ],
   "source": [
    "# Q8\n",
    "'''\n",
    "1. The most widely used supervised learning algorithms are:\n",
    "Support-vector machines.\n",
    "Linear regression.\n",
    "Logistic regression.\n",
    "Naive Bayes.\n",
    "Linear discriminant analysis.\n",
    "Decision trees.\n",
    "K-nearest neighbor algorithm.\n",
    "Neural networks (Multilayer perceptron)\n",
    "\n",
    "2. Unsupervised Learning algorithms:\n",
    "K-means clustering.\n",
    "KNN (k-nearest neighbors)\n",
    "Hierarchal clustering.\n",
    "Anomaly detection.\n",
    "Neural Networks.\n",
    "Principle Component Analysis.\n",
    "Independent Component Analysis.\n",
    "Apriori algorithm.\n",
    "\n",
    "Since anomalies are rare and unknown to the user at training time, anomaly detection in most cases boils down to the .\n",
    "problem of modelling the normal data distribution and defining a measurement in this space in order to classify samples as \n",
    "anomalous or normal.\n",
    "'''"
   ]
  },
  {
   "cell_type": "code",
   "execution_count": null,
   "id": "28787b72-f2ea-4e55-8a6a-6d1070f80352",
   "metadata": {},
   "outputs": [],
   "source": []
  }
 ],
 "metadata": {
  "kernelspec": {
   "display_name": "Python 3 (ipykernel)",
   "language": "python",
   "name": "python3"
  },
  "language_info": {
   "codemirror_mode": {
    "name": "ipython",
    "version": 3
   },
   "file_extension": ".py",
   "mimetype": "text/x-python",
   "name": "python",
   "nbconvert_exporter": "python",
   "pygments_lexer": "ipython3",
   "version": "3.10.8"
  }
 },
 "nbformat": 4,
 "nbformat_minor": 5
}
